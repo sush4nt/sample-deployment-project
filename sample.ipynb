{
 "cells": [
  {
   "cell_type": "code",
   "execution_count": null,
   "metadata": {},
   "outputs": [],
   "source": [
    "import gradio as gr\n",
    "from fastai.vision.all import *"
   ]
  },
  {
   "cell_type": "code",
   "execution_count": null,
   "metadata": {},
   "outputs": [],
   "source": [
    "def is_cat(x): return x[0].isupper()\n",
    "learn = load_learner('export.pkl')\n",
    "\n",
    "categories = ('Dog', 'Cat')"
   ]
  },
  {
   "cell_type": "code",
   "execution_count": null,
   "metadata": {},
   "outputs": [],
   "source": [
    "def classify_image(img):\n",
    "    pred, ids, probs = learn.predict(img)\n",
    "    return dict(zip(categories, map(float, probs)))\n",
    "\n",
    "\n",
    "image = gr.inputs.Image(shape=(192, 192))\n",
    "label = gr.outputs.Label()\n",
    "examples = ['dog.jpg', 'cat.jpg', 'grizzly.jpeg']\n",
    "\n",
    "iface = gr.Interface(fn=classify_image, inputs=image, outputs=label, examples=examples)\n",
    "iface.launch(inline=False)"
   ]
  }
 ],
 "metadata": {
  "language_info": {
   "name": "python"
  },
  "orig_nbformat": 4
 },
 "nbformat": 4,
 "nbformat_minor": 2
}
